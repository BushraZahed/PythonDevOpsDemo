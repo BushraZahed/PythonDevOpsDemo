{
 "cells": [
  {
   "cell_type": "markdown",
   "id": "5c20d28f-1b27-4c3f-86ab-a68e6c586a90",
   "metadata": {},
   "source": [
    "# Console Input and Output Programming Assignment Part I\n",
    "The first program should be hard coded to output  the following to the console:\n",
    "\n",
    "Hello Coursera"
   ]
  },
  {
   "cell_type": "code",
   "execution_count": 1,
   "id": "1998ab62-44b2-4d2e-a3a4-17e4f85e73e5",
   "metadata": {},
   "outputs": [
    {
     "name": "stdout",
     "output_type": "stream",
     "text": [
      "Hello Coursera\n"
     ]
    }
   ],
   "source": [
    "print(\"Hello Coursera\") "
   ]
  },
  {
   "cell_type": "markdown",
   "id": "f3790f3a-0090-4997-8948-ac6fcfbe267d",
   "metadata": {},
   "source": [
    "# Console Input and Output Programming Assignment Part II\n",
    "Write a program that reads in the user's ame and says, “Welcome to Coursera [Name]”.  [Name should replace the input value]\n",
    "\n",
    "You should leave your input prompt as an empty string like this: input(\"\")."
   ]
  },
  {
   "cell_type": "code",
   "execution_count": 2,
   "id": "d27010d9-e9ce-46f6-ad85-5d7409e6396b",
   "metadata": {},
   "outputs": [
    {
     "name": "stdin",
     "output_type": "stream",
     "text": [
      " gina\n"
     ]
    },
    {
     "name": "stdout",
     "output_type": "stream",
     "text": [
      "Welcome to Coursera gina\n"
     ]
    }
   ],
   "source": [
    "print(\"Welcome to Coursera \"+ input(\"\"))"
   ]
  },
  {
   "cell_type": "markdown",
   "id": "fb6f1271-d757-4dd4-b86f-5f22cfddd1ff",
   "metadata": {},
   "source": [
    "#  Data Types Programming Assignment Part I\n",
    "Write a program that reads in the user's salary and divides the number by 12 months. The monthly salary should be output to the console with 0 decimal places rounded up.\n",
    "\n",
    "For example, if the user enters 60000 the program should display 5000"
   ]
  },
  {
   "cell_type": "code",
   "execution_count": 3,
   "id": "3c7ab3d6-1ae6-4a9e-a4ff-48a980293dec",
   "metadata": {},
   "outputs": [
    {
     "name": "stdin",
     "output_type": "stream",
     "text": [
      " 2\n"
     ]
    },
    {
     "name": "stdout",
     "output_type": "stream",
     "text": [
      "0\n"
     ]
    }
   ],
   "source": [
    "salary = input(\"\")\n",
    "print(int(round(float(salary)/12,0)))"
   ]
  },
  {
   "cell_type": "markdown",
   "id": "b0b610f3-b796-4e41-b258-6829a6f72f55",
   "metadata": {},
   "source": [
    "# Data Types Programming Assignment Part II\n",
    "Write a program that reads in a whole number and divides it by 3 and displays the result with three decimal places if they exist(rounded up).\n",
    "\n",
    "For example, if the user enters 2 the program should display 0.667\n",
    "\n",
    "For example, if the user enters 9999 the program should display 3,333.0"
   ]
  },
  {
   "cell_type": "code",
   "execution_count": 4,
   "id": "457f5f90-3268-4a99-8051-f5dbad3e9653",
   "metadata": {},
   "outputs": [
    {
     "name": "stdin",
     "output_type": "stream",
     "text": [
      " 2\n"
     ]
    },
    {
     "name": "stdout",
     "output_type": "stream",
     "text": [
      "0.667\n"
     ]
    }
   ],
   "source": [
    "number = int(input())\n",
    "print(round(number/3,3))"
   ]
  },
  {
   "cell_type": "markdown",
   "id": "07efd3ed-0446-4f82-b753-cb1c2d28e8ff",
   "metadata": {},
   "source": [
    "# Decision Branching Programming Assignment\n",
    "Write a program that reads in a number and prints the either Small, Medium or Large depending on if the number is bellow 100 or above 200.\n",
    "\n",
    "For example, if the user enters 150 the program should display “Medium”\n",
    "\n",
    "Another example, is if the user enters 50 the program should display “Small”"
   ]
  },
  {
   "cell_type": "code",
   "execution_count": 6,
   "id": "e076e410-df22-415d-9563-ad4a76b18ef8",
   "metadata": {},
   "outputs": [
    {
     "name": "stdin",
     "output_type": "stream",
     "text": [
      " 50\n"
     ]
    },
    {
     "name": "stdout",
     "output_type": "stream",
     "text": [
      "Small\n"
     ]
    }
   ],
   "source": [
    "number = int(input())\n",
    "if number > 200:\n",
    "    print(\"Large\")\n",
    "elif number < 100:\n",
    "    print(\"Small\")\n",
    "else:\n",
    "    print(\"Medium\")"
   ]
  },
  {
   "cell_type": "markdown",
   "id": "d12a2f37-5a12-4cb0-9000-df002e76d839",
   "metadata": {},
   "source": [
    "# Iteration Programming Assignment Part I\n",
    "Write a program that reads in a number and prints the sum of all values from 1 up to the number.\n",
    "\n",
    "For example, if the user enters 5 the program should display 15.  15 is (1+2+3+4+5)"
   ]
  },
  {
   "cell_type": "code",
   "execution_count": 7,
   "id": "a0e187d5-41a9-4c49-81e1-64fcc07ae395",
   "metadata": {},
   "outputs": [
    {
     "name": "stdin",
     "output_type": "stream",
     "text": [
      " 5\n"
     ]
    },
    {
     "name": "stdout",
     "output_type": "stream",
     "text": [
      "15\n"
     ]
    }
   ],
   "source": [
    "number = int(input())\n",
    "sum = 0\n",
    "for i in range(number+1) :\n",
    "    sum = sum + i\n",
    "print(sum)"
   ]
  },
  {
   "cell_type": "markdown",
   "id": "ffc40dbb-0590-4a61-be39-b8642050efb9",
   "metadata": {},
   "source": [
    "# Iteration Programming Assignment Part II\n",
    "Write a program that reads in numbers until a -1 is entered and prints the sum of all numbers entered.\n",
    "\n",
    "For example, if the user enters 5 10 15 -1 the program should display 30 (Each number will be separated by a carriage return).  30 is (5+10+15)"
   ]
  },
  {
   "cell_type": "code",
   "execution_count": 8,
   "id": "60b6eb0e-9cdf-4280-a2d0-c42925a4e63d",
   "metadata": {},
   "outputs": [
    {
     "name": "stdin",
     "output_type": "stream",
     "text": [
      " 5\n",
      " 10\n",
      " 15\n",
      " -1\n"
     ]
    },
    {
     "name": "stdout",
     "output_type": "stream",
     "text": [
      "30\n"
     ]
    }
   ],
   "source": [
    "sum = 0\n",
    "invalue = 0\n",
    "while invalue != -1:\n",
    "    sum = sum +invalue\n",
    "    invalue = int(input())\n",
    "print(sum)"
   ]
  },
  {
   "cell_type": "code",
   "execution_count": null,
   "id": "6ce8fbb1-72cb-495a-9b97-96a607f21421",
   "metadata": {},
   "outputs": [],
   "source": []
  }
 ],
 "metadata": {
  "kernelspec": {
   "display_name": "Python 3 (ipykernel)",
   "language": "python",
   "name": "python3"
  },
  "language_info": {
   "codemirror_mode": {
    "name": "ipython",
    "version": 3
   },
   "file_extension": ".py",
   "mimetype": "text/x-python",
   "name": "python",
   "nbconvert_exporter": "python",
   "pygments_lexer": "ipython3",
   "version": "3.8.8"
  }
 },
 "nbformat": 4,
 "nbformat_minor": 5
}
