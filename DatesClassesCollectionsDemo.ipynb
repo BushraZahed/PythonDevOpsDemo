{
 "cells": [
  {
   "cell_type": "markdown",
   "id": "41a2a1a6-2e79-49d1-ad04-5c37a4aed4fc",
   "metadata": {},
   "source": [
    "# Dates and Advanced Strings Programming Assignment Part 1\n",
    "Write a program that reads in a number and prints the date that number of days from now in this format: Saturday, February 06, 2021."
   ]
  },
  {
   "cell_type": "code",
   "execution_count": 2,
   "id": "21435c88-114c-44ec-b393-8dad57841fd2",
   "metadata": {},
   "outputs": [
    {
     "name": "stdin",
     "output_type": "stream",
     "text": [
      " 2\n"
     ]
    },
    {
     "name": "stdout",
     "output_type": "stream",
     "text": [
      "Saturday, August 20, 2022\n"
     ]
    }
   ],
   "source": [
    "import datetime\n",
    "from datetime import timedelta\n",
    "\n",
    "y = int(input())\n",
    "x = datetime.datetime.now() + timedelta(days=y)\n",
    "print(x.strftime(\"%A, %B %d, %Y\"))"
   ]
  },
  {
   "cell_type": "markdown",
   "id": "2af8bd4e-6be6-4536-9dc8-9c4b74d440c8",
   "metadata": {},
   "source": [
    "# Dates and Advanced Strings Programming Assignment Part 2\n",
    "Write a program that reads in numbers until a -1 is entered and prints the sum of all numbers entered in decimal format with two digits after the decimal.\n",
    "For example, if the user enters 5000 10 15 -1 the program should display 5025.00 (Each number will be separated by a carriage return)."
   ]
  },
  {
   "cell_type": "code",
   "execution_count": 3,
   "id": "454016be-2930-4bdc-a26f-3e8b8f4d5815",
   "metadata": {},
   "outputs": [
    {
     "name": "stdin",
     "output_type": "stream",
     "text": [
      " 10\n",
      " 2\n",
      " -1\n"
     ]
    },
    {
     "name": "stdout",
     "output_type": "stream",
     "text": [
      "12.00\n"
     ]
    }
   ],
   "source": [
    "sum = 0\n",
    "invalue = 0\n",
    "while invalue != -1:\n",
    "    sum = sum + invalue\n",
    "    invalue = int(input())\n",
    "print(\"{0:3.2f}\".format(sum))"
   ]
  },
  {
   "cell_type": "markdown",
   "id": "ce883a0f-1be5-45e0-acbf-1fc5c6c46299",
   "metadata": {},
   "source": [
    "# Instantiating Classes Programming Assignment\n",
    "Write a class that calculates and stores the height and weight of a person in metric. The BMI is calculated using this formula:\n",
    "\n",
    "Weight/Height ^ 2 - weight is in kilograms and height is in meters.\n",
    "\n",
    "The class should have two properties named:\n",
    "\n",
    "Weight\n",
    "\n",
    "Height\n",
    "\n",
    "\n",
    "The class should have one method that returns a decimal named (no arguments should be accepted):\n",
    "\n",
    "BMI_Value"
   ]
  },
  {
   "cell_type": "code",
   "execution_count": 6,
   "id": "df43e875-a7b4-47d2-9856-e429da43f434",
   "metadata": {},
   "outputs": [],
   "source": [
    "class BMI:\n",
    "    __pHeight = 0\n",
    "    __pWeight = 0\n",
    "    \n",
    "    def __getHeight(self):\n",
    "        return self.__pHeight\n",
    "    def __setHeight(self,inValue):\n",
    "        self.__pHeight = inValue\n",
    "    \n",
    "    def __getWeight(self):\n",
    "        return self.__pWeight\n",
    "    def __setWeight(self,inValue):\n",
    "        self.__pWeight = inValue\n",
    "    Height = property(__getHeight,__setHeight)\n",
    "    Weight = property(__getWeight,__setWeight)\n",
    "   \n",
    "    def BMI_Value(self):\n",
    "        return self.__pWeight/self.__pHeight ** 2"
   ]
  },
  {
   "cell_type": "code",
   "execution_count": 7,
   "id": "f85ce09c-15b7-45ef-b5a7-9110a213c798",
   "metadata": {},
   "outputs": [
    {
     "name": "stdout",
     "output_type": "stream",
     "text": [
      "18.75\n"
     ]
    }
   ],
   "source": [
    "# test BMI class\n",
    "#from lab import BMI\n",
    "x = BMI()\n",
    "x.Height = 2\n",
    "x.Weight = 75\n",
    "print(x.BMI_Value())"
   ]
  },
  {
   "cell_type": "markdown",
   "id": "6661cc4d-28a8-4338-999c-da90517e3f6d",
   "metadata": {},
   "source": [
    "# Collections Programming Assignment\n",
    "Write a program that takes in grades one at a time until a -1 is seen to mark the end of the list.  Each grade will be separated by an enter key.  When you are done, output the average (as an int) followed by the grades in order that you saw them.\n",
    "An example execution would look like this:\n",
    "Input: \n",
    "\t80\n",
    "\t75\n",
    "\t70\n",
    "\t-1\n",
    "Output:\n",
    "\t75\n",
    "\t80\n",
    "\t75\n",
    "\t70"
   ]
  },
  {
   "cell_type": "code",
   "execution_count": 9,
   "id": "a84cd4da-a857-4f6d-9c43-7d8ed2cac613",
   "metadata": {},
   "outputs": [
    {
     "name": "stdin",
     "output_type": "stream",
     "text": [
      " 90\n",
      " 30\n",
      " 80\n",
      " -1\n"
     ]
    },
    {
     "name": "stdout",
     "output_type": "stream",
     "text": [
      "66\n",
      "90\n",
      "30\n",
      "80\n"
     ]
    }
   ],
   "source": [
    "gradeList = []\n",
    "x = int(input())\n",
    "while x != -1 :\n",
    "    gradeList.append(x)\n",
    "    x = int(input())\n",
    "sum = 0\n",
    "for x in gradeList:\n",
    "    sum = sum + x\n",
    "print(int(sum/len(gradeList)))\n",
    "for x in gradeList:\n",
    "    print(x)\n",
    "    "
   ]
  },
  {
   "cell_type": "code",
   "execution_count": null,
   "id": "acdb604c-c5cf-4bb5-80a5-f41668414ded",
   "metadata": {},
   "outputs": [],
   "source": []
  }
 ],
 "metadata": {
  "kernelspec": {
   "display_name": "Python 3 (ipykernel)",
   "language": "python",
   "name": "python3"
  },
  "language_info": {
   "codemirror_mode": {
    "name": "ipython",
    "version": 3
   },
   "file_extension": ".py",
   "mimetype": "text/x-python",
   "name": "python",
   "nbconvert_exporter": "python",
   "pygments_lexer": "ipython3",
   "version": "3.8.8"
  }
 },
 "nbformat": 4,
 "nbformat_minor": 5
}
