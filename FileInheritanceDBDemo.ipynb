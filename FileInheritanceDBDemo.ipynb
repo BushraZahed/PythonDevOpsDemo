{
 "cells": [
  {
   "cell_type": "markdown",
   "id": "cd179010-57d1-41dd-8b25-3929c393f64e",
   "metadata": {},
   "source": [
    "# File Input and Output Programming Assignment\n",
    "Write a program that reads in integer numbers from a text file named indata.txt in the same directory as the executing program.  \n",
    "Print the sum of the numbers with comma separators and two digits.\n",
    "\n",
    "For example if the file has the following data:\n",
    "\n",
    "10\n",
    "1000\n",
    "20\n",
    "\n",
    "Your program should print 1030.00.\n",
    "\n",
    "Use the lab.py file provided to you to program you solution.  When you reference the file in your code use the full path to elimiate any issues: \"/grader/indata.txt\".\n"
   ]
  },
  {
   "cell_type": "code",
   "execution_count": 3,
   "id": "662c3b24-c630-4c86-abdd-bab4dc5e3e38",
   "metadata": {},
   "outputs": [
    {
     "name": "stdout",
     "output_type": "stream",
     "text": [
      "1030.00\n"
     ]
    }
   ],
   "source": [
    "f = open(\"indata.txt\",\"rt\")\n",
    "sum = 0\n",
    "for x in f:\n",
    "    sum = sum + float(x)\n",
    "print(\"{0:3.2f}\".format(sum))\n",
    "f.close()"
   ]
  },
  {
   "cell_type": "markdown",
   "id": "a63be15e-0f10-4ede-b133-78e59b35670c",
   "metadata": {},
   "source": [
    "# Inheritance Programming Assignment\n",
    "Write a class that calculates and stores the height and weight of a person in metric. The file should be named lab.py.  BMI is calculated using this formula:\n",
    "Weight/Height^2 - weight is in kilograms and height is in meters.\n",
    "The class should have two properties named:\n",
    "\n",
    "    Weight\n",
    "    Height\n",
    "\n",
    "The class should have two methods:\n",
    "\n",
    "    BMI_Value – This takes no arguments and returns a decimal value of the BMI\n",
    "    Equals – This should override the equals method from the object class to compare the weight and height of two BMI objects.  To override the equal method you should implement this method: __eq__(self, other) and return a boolean"
   ]
  },
  {
   "cell_type": "code",
   "execution_count": 9,
   "id": "5af8d9c5-65d7-49d5-befb-23ac882d4bb1",
   "metadata": {},
   "outputs": [
    {
     "name": "stdout",
     "output_type": "stream",
     "text": [
      "18.75\n",
      "They are not equal\n"
     ]
    }
   ],
   "source": [
    "class BMI:\n",
    "    __pHeight = 0\n",
    "    __pWeight = 0\n",
    "    \n",
    "    def __getHeight(self):\n",
    "        return self.__pHeight\n",
    "    def __setHeight(self,inValue):\n",
    "        self.__pHeight = inValue\n",
    "    \n",
    "    def __getWeight(self):\n",
    "        return self.__pWeight\n",
    "    def __setWeight(self,inValue):\n",
    "        self.__pWeight = inValue\n",
    "    Height = property(__getHeight,__setHeight)\n",
    "    Weight = property(__getWeight,__setWeight)\n",
    "   \n",
    "    def BMI_Value(self):\n",
    "        return self.__pWeight/self.__pHeight ** 2\n",
    "    def __eq__(self,other):\n",
    "        return self.Weight == other.Weight and self.Height == other.Height\n",
    "    \n",
    "x = BMI()\n",
    "y = BMI()\n",
    "x.Height = 2\n",
    "x.Weight = 75\n",
    "y.Height = 2\n",
    "y.Weight = 77\n",
    "print(x.BMI_Value())\n",
    "if x == y:\n",
    "    print(\"They are equal\")\n",
    "else:\n",
    "    print(\"They are not equal\")"
   ]
  },
  {
   "cell_type": "code",
   "execution_count": null,
   "id": "be4a4865-eba8-4d29-90b8-2ae219c45843",
   "metadata": {},
   "outputs": [],
   "source": []
  },
  {
   "cell_type": "code",
   "execution_count": null,
   "id": "a839d82e-bcdc-4f81-95a6-d2f35285d431",
   "metadata": {},
   "outputs": [],
   "source": []
  }
 ],
 "metadata": {
  "kernelspec": {
   "display_name": "Python 3 (ipykernel)",
   "language": "python",
   "name": "python3"
  },
  "language_info": {
   "codemirror_mode": {
    "name": "ipython",
    "version": 3
   },
   "file_extension": ".py",
   "mimetype": "text/x-python",
   "name": "python",
   "nbconvert_exporter": "python",
   "pygments_lexer": "ipython3",
   "version": "3.8.8"
  }
 },
 "nbformat": 4,
 "nbformat_minor": 5
}
